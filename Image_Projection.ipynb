{
 "cells": [
  {
   "cell_type": "markdown",
   "metadata": {},
   "source": [
    "<center><h1>An illusion- Image Projection with OpenCV<h1>"
   ]
  },
  {
   "cell_type": "markdown",
   "metadata": {},
   "source": [
    "## Importing libraries"
   ]
  },
  {
   "cell_type": "code",
   "execution_count": 1,
   "metadata": {},
   "outputs": [],
   "source": [
    "# importing necessary libraries\n",
    "\n",
    "import cv2\n",
    "import time\n",
    "import numpy as np"
   ]
  },
  {
   "cell_type": "markdown",
   "metadata": {},
   "source": [
    "## Saving the output video"
   ]
  },
  {
   "cell_type": "code",
   "execution_count": 2,
   "metadata": {},
   "outputs": [],
   "source": [
    "# writing and saving the captured video\n",
    "\n",
    "video_write = cv2.VideoWriter_fourcc(*'XVID')\n",
    "output = cv2.VideoWriter('Astral.avi', video_write, 20.0, (640, 640))"
   ]
  },
  {
   "cell_type": "markdown",
   "metadata": {},
   "source": [
    "## Creating a static frame for background"
   ]
  },
  {
   "cell_type": "code",
   "execution_count": 3,
   "metadata": {},
   "outputs": [],
   "source": [
    "# captures video\n",
    "cap = cv2.VideoCapture(0)\n",
    "\n",
    "# setting time to 10 seconds after which video starts capturing\n",
    "time.sleep(10)\n",
    "\n",
    "# captures video for the backgroud\n",
    "for i in range(10):\n",
    "    ret, background = cap.read()"
   ]
  },
  {
   "cell_type": "markdown",
   "metadata": {},
   "source": [
    "## Creating dynamic frames for foreground"
   ]
  },
  {
   "cell_type": "code",
   "execution_count": 4,
   "metadata": {},
   "outputs": [],
   "source": [
    "# setting the initial time for automatic stop if not stopped manually.\n",
    "t0 = time.time()\n",
    "\n",
    "# while the camera is opened, it keeps capturing video foreground\n",
    "while(cap.isOpened()):\n",
    "    \n",
    "    ret, foreground = cap.read()\n",
    "    \n",
    "    # adding static frame and dynamic frames\n",
    "    # full = cv2.addWeighted(forground, 1, background, 1, 0)\n",
    "    full = cv2.add(foreground, background)\n",
    "    \n",
    "    # writing output and showing the same\n",
    "    output.write(full)\n",
    "    cv2.imshow('Astral', full)\n",
    "    \n",
    "    # waitkey to manually stop capturing video\n",
    "    if cv2.waitKey(1) & 0xFF == ord('a'):\n",
    "        break\n",
    "    \n",
    "    # time to automatically stop capturing video after pre-defined time in seconds\n",
    "    t1 = time.time() \n",
    "    num_seconds = t1 - t0 \n",
    "    if num_seconds > 30:  \n",
    "        break\n",
    "        \n",
    "\n",
    "# closing all the camera windows\n",
    "cap.release()\n",
    "output.release()\n",
    "cv2.destroyAllWindows()"
   ]
  },
  {
   "cell_type": "markdown",
   "metadata": {},
   "source": [
    "<center><h1>Finish<h1>"
   ]
  },
  {
   "cell_type": "code",
   "execution_count": null,
   "metadata": {},
   "outputs": [],
   "source": []
  }
 ],
 "metadata": {
  "kernelspec": {
   "display_name": "Python 3",
   "language": "python",
   "name": "python3"
  },
  "language_info": {
   "codemirror_mode": {
    "name": "ipython",
    "version": 3
   },
   "file_extension": ".py",
   "mimetype": "text/x-python",
   "name": "python",
   "nbconvert_exporter": "python",
   "pygments_lexer": "ipython3",
   "version": "3.7.1"
  }
 },
 "nbformat": 4,
 "nbformat_minor": 2
}
